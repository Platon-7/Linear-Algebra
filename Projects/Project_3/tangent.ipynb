{
 "cells": [
  {
   "cell_type": "markdown",
   "id": "02ed3def",
   "metadata": {},
   "source": [
    "# Classification of Handwritten Digits Using Tangents"
   ]
  },
  {
   "cell_type": "markdown",
   "id": "3549ff03",
   "metadata": {},
   "source": [
    "## Installs & Upgrades (remove comments if you deem it necessary)"
   ]
  },
  {
   "cell_type": "code",
   "execution_count": 16,
   "id": "3f29cb29",
   "metadata": {},
   "outputs": [],
   "source": [
    "#!pip install numpy --upgrade\n",
    "#!pip install pandas --upgrade\n",
    "#!pip install matplotlib --upgrade\n",
    "#!pip install scikit-learn --upgrade"
   ]
  },
  {
   "cell_type": "markdown",
   "id": "71ce1ccd",
   "metadata": {},
   "source": [
    "## Import Files"
   ]
  },
  {
   "cell_type": "code",
   "execution_count": 17,
   "id": "50042e94",
   "metadata": {},
   "outputs": [],
   "source": [
    "import numpy as np\n",
    "import pandas as pd\n",
    "import matplotlib.pyplot as plt\n",
    "from sklearn.metrics import classification_report"
   ]
  },
  {
   "cell_type": "markdown",
   "id": "06c30be1",
   "metadata": {},
   "source": [
    "## Read CSV"
   ]
  },
  {
   "cell_type": "code",
   "execution_count": 18,
   "id": "3f4e2760",
   "metadata": {},
   "outputs": [],
   "source": [
    "training_images = 'Data/azip.csv'\n",
    "digits = 'Data/dzip.csv'\n",
    "test_images = 'Data/testzip.csv'\n",
    "test_digits = 'Data/dtest.csv'"
   ]
  },
  {
   "cell_type": "markdown",
   "id": "1da8f6cb",
   "metadata": {},
   "source": [
    "## Load the Data"
   ]
  },
  {
   "cell_type": "markdown",
   "id": "6e914234",
   "metadata": {},
   "source": [
    "First we instantly convert each column to a matrix. The result will be a 3D-matrix and for each data row we will have a 16x16 matrix. Then, we convert the result to a 20x20 image by padding \"-1\" since it makes all of the pixels white. Finally, we reshape the result and get a 2D matrix once again which will have 400 rows."
   ]
  },
  {
   "cell_type": "markdown",
   "id": "6b6f769e",
   "metadata": {},
   "source": [
    "Also, the exercise asks to compute the tangent distance column-wise, so we add \"order = 'F'\". This means \"Fortran style\" which is known as column-major order, the elements of the array are stored in a contiguous block of memory, with the first index changing fastest. It means that the elements of the array belonging to the same column are stored adjacent to each other. This is not particularly effective, but its what the exercise asks for, so the whole implementation is based on this. Moreover, due to the column-wise philosophy, we are forced to reshape many times with an unconventional way for Python, as we have to do +20 steps in memory constantly, which also costs to the total effectiveness of the algorithm."
   ]
  },
  {
   "cell_type": "code",
   "execution_count": 19,
   "id": "627c1d38",
   "metadata": {},
   "outputs": [],
   "source": [
    "x_train = np.array(pd.read_csv(training_images, header = None)).T.reshape(-1, 16, 16)\n",
    "x_train = np.pad(x_train, ((0,0), (2, 2), (2, 2)), constant_values=-1).reshape(x_train.shape[0], 400, order = 'F').T\n",
    "\n",
    "y_train = np.array(pd.read_csv(digits, header = None))\n",
    "\n",
    "x_test = np.array(pd.read_csv(test_images, header = None)).T.reshape(-1, 16, 16)\n",
    "x_test = np.pad(x_test, ((0,0), (2, 2), (2, 2)), constant_values=-1).reshape(x_test.shape[0], 400, order = 'F').T\n",
    "\n",
    "y_test = np.array(pd.read_csv(test_digits, header = None))"
   ]
  },
  {
   "cell_type": "markdown",
   "id": "7a9a3d0a",
   "metadata": {},
   "source": [
    "## Calculate the Derivatives"
   ]
  },
  {
   "cell_type": "markdown",
   "id": "88c8ffa1",
   "metadata": {},
   "source": [
    "This part computes the x-derivatives and y-derivatives of each digit using finite difference approximation. It first converts the data back to a 20x20 shape (by using order = 'F' like we explained above) and then it adds one column/row containing 0's. This happens because the derivative calculation for a column/row with n elements results in n-1 elements. Then it returns the result back to a vector form using flatten()."
   ]
  },
  {
   "cell_type": "code",
   "execution_count": 20,
   "id": "e31ed69c",
   "metadata": {},
   "outputs": [],
   "source": [
    "def x_der(p):\n",
    "    p = p.reshape(20,20,order=\"F\")\n",
    "    dx = np.diff(p, axis=1)\n",
    "    dx = np.hstack((dx, np.zeros((20, 1))))\n",
    "    return dx.flatten(order = 'F')\n",
    "\n",
    "def y_der(p):\n",
    "    p = p.reshape(20,20,order=\"F\")\n",
    "    dy = np.diff(p, axis = 0)\n",
    "    dy = np.vstack((dy, np.zeros(20,)))\n",
    "    return dy.flatten(order = 'F')"
   ]
  },
  {
   "cell_type": "markdown",
   "id": "95e1afaf",
   "metadata": {},
   "source": [
    "Additionally, we create a list containing tuples where each tuple will contain the dx, dy of each training data row."
   ]
  },
  {
   "cell_type": "code",
   "execution_count": 21,
   "id": "229bda81",
   "metadata": {},
   "outputs": [],
   "source": [
    "tuples = []\n",
    "\n",
    "for i in range(x_train.shape[1]):\n",
    "    dx = x_der(x_train[:,i])\n",
    "    dy = y_der(x_train[:,i])\n",
    "    tuples.append((dx, dy))"
   ]
  },
  {
   "cell_type": "markdown",
   "id": "6b44c2dd",
   "metadata": {},
   "source": [
    "## Visualization of a Transformation"
   ]
  },
  {
   "cell_type": "markdown",
   "id": "29599e1d",
   "metadata": {},
   "source": [
    "Having calculated the dx, dy of the data we already have 2 of the 7 transformations. Below we add an example of the visual result of dx. For the depictions we use *my_map1* which describes what \"ima2.m\" does, a file given by the exercise with Matlab format. The first image is the original one and the second one is the result after the transformation using dx."
   ]
  },
  {
   "cell_type": "code",
   "execution_count": 22,
   "id": "13662779",
   "metadata": {},
   "outputs": [
    {
     "data": {
      "text/plain": [
       "<matplotlib.image.AxesImage at 0x14a029577c0>"
      ]
     },
     "execution_count": 22,
     "metadata": {},
     "output_type": "execute_result"
    },
    {
     "data": {
      "image/png": "[encoded data removed]",
      "text/plain": [
       "<Figure size 432x288 with 1 Axes>"
      ]
     },
     "metadata": {
      "needs_background": "light"
     },
     "output_type": "display_data"
    }
   ],
   "source": [
    "mymap1 = [1.0000, 1.0000, 1.0000, 0.8715, 0.9028, 0.9028, 0.7431, 0.8056, 0.8056, 0.6146, 0.7083, 0.7083, 0.4861, 0.6111, 0.6111, 0.3889, 0.4722, 0.5139,0.2917, 0.3333, 0.4167, 0.1944, 0.1944, 0.3194, 0.0972, 0.0972, 0.1806, 0, 0, 0.0417]\n",
    "mymap1 = np.array(mymap1).reshape(-1,3)\n",
    "cmap= plt.cm.colors.ListedColormap(mymap1)\n",
    "\n",
    "plt.imshow(x_train[:,0].reshape(20, 20, order = 'F'), cmap=cmap)"
   ]
  },
  {
   "cell_type": "code",
   "execution_count": 23,
   "id": "ef173ecb",
   "metadata": {},
   "outputs": [
    {
     "data": {
      "text/plain": [
       "<matplotlib.image.AxesImage at 0x14a02b22290>"
      ]
     },
     "execution_count": 23,
     "metadata": {},
     "output_type": "execute_result"
    },
    {
     "data": {
      "image/png": "[encoded data removed]",
      "text/plain": [
       "<Figure size 432x288 with 1 Axes>"
      ]
     },
     "metadata": {
      "needs_background": "light"
     },
     "output_type": "display_data"
    }
   ],
   "source": [
    "shifted_image = x_train[:,0].reshape(20, 20, order=\"F\")+tuples[0][0].reshape(20, 20, order=\"F\")*0.7\n",
    "\n",
    "plt.imshow(shifted_image, cmap=cmap)"
   ]
  },
  {
   "cell_type": "markdown",
   "id": "a3e8ed7f",
   "metadata": {},
   "source": [
    "*If you look closely you can see that the number has been shifted to the left*"
   ]
  },
  {
   "cell_type": "markdown",
   "id": "d148240c",
   "metadata": {},
   "source": [
    "## Set the coordinates of each point"
   ]
  },
  {
   "cell_type": "markdown",
   "id": "781ad9ed",
   "metadata": {},
   "source": [
    "For the 2 first transformations, dx and dy were enough. To apply rotation and the rest of the transformations we need the coordinates of each point and using numpy's meshgrid we achieve that effectively. This will be used by data rows of both train and test matrices."
   ]
  },
  {
   "cell_type": "code",
   "execution_count": 24,
   "id": "a7cb3be5",
   "metadata": {},
   "outputs": [],
   "source": [
    "x, y = np.meshgrid(range(20), range(20), indexing='xy')\n",
    "x = x.flatten(order = 'F')\n",
    "y = y.flatten(order = 'F')"
   ]
  },
  {
   "cell_type": "markdown",
   "id": "ba55af45",
   "metadata": {},
   "source": [
    "## Define all of the transformations"
   ]
  },
  {
   "cell_type": "markdown",
   "id": "f812536d",
   "metadata": {},
   "source": [
    "Below we define a function that takes the coordinates of a data row and its dx, dy as an input, and implements all of the 7 transformations. It will have 7 columns, one for each transformation (vertically stacked) and the final shape will be 400x7, where 400 is the length of the initial vector. The 7 transformations mentioned shortly:\n",
    "* x-Translation -> The pattern is translated by αx in the x-direction.\n",
    "    * Its formula is: **dx**\n",
    "* y-Translation -> The pattern is translated by αy in the y-direction.\n",
    "    * Its formula is: **dy**\n",
    "* Rotation -> A rotation of the pattern by an angle αr.\n",
    "    * Its formula is: **y \\* dx - x \\* dy**\n",
    "* Scaling -> A scaling of the pattern.\n",
    "    * Its formula is: **x \\* dx + y \\* dy**\n",
    "* Parallel Hyperbolic Transformation -> We stretch the pattern parallel to the axis.\n",
    "    * Its formula is: **x \\* dx - y \\* dy**\n",
    "* Diagonal Hyperbolic Transformation -> We stretch the pattern along diagonals.\n",
    "    * Its formula is: **y \\* dx + x \\* dy**\n",
    "* Thickening -> The pattern can be made thinner or thicker\n",
    "    * Its formula is: **dx \\*\\* 2 + dy \\*\\* 2**"
   ]
  },
  {
   "cell_type": "code",
   "execution_count": 25,
   "id": "7147b402",
   "metadata": {},
   "outputs": [],
   "source": [
    "def transformations(x, dx, y, dy):\n",
    "    matrix = np.vstack((dx, dy, y*dx - x*dy, x*dx + y*dy, x*dx - y*dy, y*dx + x*dy, dx**2 + dy**2)).T\n",
    "    return matrix"
   ]
  },
  {
   "cell_type": "markdown",
   "id": "eac73336",
   "metadata": {},
   "source": [
    "## Training"
   ]
  },
  {
   "cell_type": "markdown",
   "id": "19603817",
   "metadata": {},
   "source": [
    "Next, we complete the training which is quite simple considering the fact that we have computed all of the transformations above. For each data row, we extract its coordinates and dx, dy computed before and we pass them as an argument to the function we defined above. The result is the matrix *Tp* as defined by the book. We do this for each data row and we store them in \"tp_train\"."
   ]
  },
  {
   "cell_type": "code",
   "execution_count": 26,
   "id": "01af06b3",
   "metadata": {},
   "outputs": [],
   "source": [
    "tp_train = np.zeros((x_train.shape[1], 400, 7))\n",
    "for i in range(x_train.shape[1]):\n",
    "    dx = tuples[i][0]\n",
    "    dy = tuples[i][1]\n",
    "    tp_train_temp = transformations(x, dx, y, dy)\n",
    "    tp_train[i] = tp_train_temp"
   ]
  },
  {
   "cell_type": "markdown",
   "id": "c71706f3",
   "metadata": {},
   "source": [
    "## Predictions"
   ]
  },
  {
   "cell_type": "markdown",
   "id": "f840f625",
   "metadata": {},
   "source": [
    "At last, we can make our predictions. We get each test data row and calculate its *Te* matrix as defined by the book. This must be compared with all of the matrices in \"tp_train\" and this is mainly the reason why this method is not effective (and therefore not used by many). For each comparison we calculate the least squares using numpy's built in function, where \"A\" is the concatenated matrix [-Tp Te]. Simultaneously, b is computed by subtracting the original (correct) vectors, the first the being data row being classified, and the latter the corresponding training row that it is compared in this iteration. Subsequently, we store the residuals and the predicted label and we keep only the minimum residual along with its predicted label. This whole process is repeated for every test row. The final result is an array \"predicted_labels\" which contains all of our predictions."
   ]
  },
  {
   "cell_type": "markdown",
   "id": "04868055",
   "metadata": {},
   "source": [
    "*This takes approximately 7.5 - 8 minutes to run.*"
   ]
  },
  {
   "cell_type": "code",
   "execution_count": 27,
   "id": "0244a973",
   "metadata": {},
   "outputs": [],
   "source": [
    "predicted_labels = np.zeros(y_test.shape[1])\n",
    "for i in range(x_test.shape[1]):\n",
    "    dx = x_der(x_test[:,i])\n",
    "    dy = y_der(x_test[:,i])\n",
    "    temp = []\n",
    "    tp_test = transformations(x, dx, y, dy)\n",
    "    for j in range(x_train.shape[1]):\n",
    "        T = np.hstack((-tp_train[j], tp_test))\n",
    "        b = x_train[:,j] - x_test[:,i]\n",
    "        _, residuals, _, _ = np.linalg.lstsq(T, b, rcond=None)\n",
    "        temp.append((residuals[0], y_train[0][j]))\n",
    "        \n",
    "    res, c = min(temp)\n",
    "    predicted_labels[i] = int(c)"
   ]
  },
  {
   "cell_type": "markdown",
   "id": "d542cf2b",
   "metadata": {},
   "source": [
    "## Compute the Algorithm's Accuracy"
   ]
  },
  {
   "cell_type": "code",
   "execution_count": 28,
   "id": "72eacbbc",
   "metadata": {},
   "outputs": [
    {
     "name": "stdout",
     "output_type": "stream",
     "text": [
      "Accuracy: 94.27  %\n"
     ]
    }
   ],
   "source": [
    "true_labels = y_test[0]\n",
    "accuracy = np.sum(predicted_labels == true_labels) / len(true_labels)\n",
    "\n",
    "print(\"Accuracy: {:.2f} \".format(accuracy*100),\"%\")"
   ]
  },
  {
   "cell_type": "markdown",
   "id": "fdb59215",
   "metadata": {},
   "source": [
    "## Compute the Algorithm's F1"
   ]
  },
  {
   "cell_type": "markdown",
   "id": "468168e7",
   "metadata": {},
   "source": [
    "As we know, accuracy is not always trustworthy, especially in multi-class problems, so we will compute F1-score as well."
   ]
  },
  {
   "cell_type": "code",
   "execution_count": 29,
   "id": "a3cf1cff",
   "metadata": {},
   "outputs": [
    {
     "name": "stdout",
     "output_type": "stream",
     "text": [
      "              precision    recall  f1-score   support\n",
      "\n",
      "           0       0.95      0.99      0.97       359\n",
      "           1       0.92      0.98      0.95       264\n",
      "           2       0.94      0.89      0.92       198\n",
      "           3       0.94      0.93      0.93       166\n",
      "           4       0.94      0.92      0.93       200\n",
      "           5       0.94      0.86      0.90       160\n",
      "           6       0.97      0.96      0.96       170\n",
      "           7       0.94      0.94      0.94       147\n",
      "           8       0.96      0.92      0.94       166\n",
      "           9       0.94      0.98      0.96       177\n",
      "\n",
      "    accuracy                           0.94      2007\n",
      "   macro avg       0.94      0.94      0.94      2007\n",
      "weighted avg       0.94      0.94      0.94      2007\n",
      "\n"
     ]
    }
   ],
   "source": [
    "report = classification_report(true_labels, predicted_labels)\n",
    "print(report)"
   ]
  },
  {
   "cell_type": "markdown",
   "id": "18a49aa2",
   "metadata": {},
   "source": [
    "We can see that the resulting accuracy is great! It is a bit better than the accuracy we got using SVD (it was 94.17%) but considering how slower this method is, it is definitely not recommended. F1-Score is great as well, (94% in total) which ensures us that the algorithm is working well and that the classification is performed as it should be. It should be mentioned that the book provides an alternate solution implementing QR decomposition to find the squared norm of Q_2^T@b which skips the whole process we just completed, but computing full QR thousands of times inside the for loops will definitely be slow as well (and probably much slower). In general, these methods need many and spot on alterations to work efficiently, and this project is just an introduction to these methods."
   ]
  },
  {
   "cell_type": "markdown",
   "id": "86d30c77",
   "metadata": {},
   "source": [
    "*This implementation is based on the book \"Matrix Methods in Data Mining and Pattern Recognition\"*"
   ]
  }
 ],
 "metadata": {
  "kernelspec": {
   "display_name": "Python 3 (ipykernel)",
   "language": "python",
   "name": "python3"
  },
  "language_info": {
   "codemirror_mode": {
    "name": "ipython",
    "version": 3
   },
   "file_extension": ".py",
   "mimetype": "text/x-python",
   "name": "python",
   "nbconvert_exporter": "python",
   "pygments_lexer": "ipython3",
   "version": "3.10.8"
  }
 },
 "nbformat": 4,
 "nbformat_minor": 5
}
