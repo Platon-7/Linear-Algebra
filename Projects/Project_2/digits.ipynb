{
 "cells": [
  {
   "cell_type": "markdown",
   "metadata": {},
   "source": [
    "# Classification of Handwritten Digits"
   ]
  },
  {
   "cell_type": "markdown",
   "metadata": {},
   "source": [
    "## Installs & Upgrades (remove comments if you deem it necessary)"
   ]
  },
  {
   "cell_type": "code",
   "execution_count": 415,
   "metadata": {},
   "outputs": [],
   "source": [
    "#!pip install numpy --upgrade\n",
    "#!pip install pandas --upgrade\n",
    "#!pip install matplotlib --upgrade\n",
    "#!pip install scipy --upgrade\n",
    "#!pip install scikit-learn --upgrade"
   ]
  },
  {
   "cell_type": "markdown",
   "metadata": {},
   "source": [
    "## Import Files"
   ]
  },
  {
   "cell_type": "code",
   "execution_count": 416,
   "metadata": {},
   "outputs": [],
   "source": [
    "import numpy as np\n",
    "import pandas as pd\n",
    "import matplotlib.pyplot as plt\n",
    "from scipy.linalg import norm\n",
    "from sklearn.metrics import accuracy_score, confusion_matrix, classification_report\n",
    "import time"
   ]
  },
  {
   "cell_type": "markdown",
   "metadata": {},
   "source": [
    "## Read CSV"
   ]
  },
  {
   "cell_type": "code",
   "execution_count": 417,
   "metadata": {},
   "outputs": [],
   "source": [
    "training_images = 'Data/azip.csv'\n",
    "digits = 'Data/dzip.csv'\n",
    "test_images = 'Data/testzip.csv'\n",
    "test_digits = 'Data/dtest.csv'"
   ]
  },
  {
   "cell_type": "markdown",
   "metadata": {},
   "source": [
    "### Preview the Training Images"
   ]
  },
  {
   "cell_type": "code",
   "execution_count": 418,
   "metadata": {},
   "outputs": [
    {
     "name": "stdout",
     "output_type": "stream",
     "text": [
      "      0      1      2     3      4     5      6     7      8     9     ...  \\\n",
      "0   -1.000 -1.000 -1.000  -1.0 -1.000  -1.0 -1.000  -1.0 -1.000  -1.0  ...   \n",
      "1   -1.000 -1.000 -1.000  -1.0 -1.000  -1.0 -1.000  -1.0 -1.000  -1.0  ...   \n",
      "2   -1.000 -1.000 -1.000  -1.0 -1.000  -1.0 -1.000  -1.0 -1.000  -1.0  ...   \n",
      "3   -1.000 -0.813 -1.000  -1.0 -1.000  -1.0 -0.830  -1.0 -1.000  -1.0  ...   \n",
      "4   -1.000 -0.671 -1.000  -1.0 -1.000  -1.0  0.442  -1.0 -1.000  -1.0  ...   \n",
      "..     ...    ...    ...   ...    ...   ...    ...   ...    ...   ...  ...   \n",
      "251 -0.991  0.126 -0.179  -1.0  0.439  -1.0 -1.000  -1.0 -0.811  -1.0  ...   \n",
      "252 -1.000 -0.095 -1.000  -1.0 -0.199  -1.0 -1.000  -1.0 -1.000  -1.0  ...   \n",
      "253 -1.000 -0.671 -1.000  -1.0 -0.883  -1.0 -1.000  -1.0 -1.000  -1.0  ...   \n",
      "254 -1.000 -0.828 -1.000  -1.0 -1.000  -1.0 -1.000  -1.0 -1.000  -1.0  ...   \n",
      "255 -1.000 -1.000 -1.000  -1.0 -1.000  -1.0 -1.000  -1.0 -1.000  -1.0  ...   \n",
      "\n",
      "      1697   1698   1699  1700  1701   1702  1703   1704  1705   1706  \n",
      "0   -1.000 -1.000 -1.000  -1.0  -1.0 -1.000  -1.0 -1.000  -1.0 -1.000  \n",
      "1   -1.000 -1.000 -1.000  -1.0  -1.0 -1.000  -1.0 -1.000  -1.0 -1.000  \n",
      "2   -1.000 -1.000 -1.000  -1.0  -1.0 -1.000  -1.0 -1.000  -1.0 -1.000  \n",
      "3   -1.000 -0.567 -1.000  -1.0  -1.0 -1.000  -1.0 -1.000  -1.0 -1.000  \n",
      "4   -0.986 -0.064 -1.000  -1.0  -1.0 -1.000  -1.0 -0.948  -1.0 -0.338  \n",
      "..     ...    ...    ...   ...   ...    ...   ...    ...   ...    ...  \n",
      "251 -1.000 -1.000 -0.633  -1.0  -1.0 -0.974  -1.0 -1.000  -1.0 -1.000  \n",
      "252 -1.000 -1.000 -0.782  -1.0  -1.0 -1.000  -1.0 -1.000  -1.0 -1.000  \n",
      "253 -1.000 -1.000 -1.000  -1.0  -1.0 -1.000  -1.0 -1.000  -1.0 -1.000  \n",
      "254 -1.000 -1.000 -1.000  -1.0  -1.0 -1.000  -1.0 -1.000  -1.0 -1.000  \n",
      "255 -1.000 -1.000 -1.000  -1.0  -1.0 -1.000  -1.0 -1.000  -1.0 -1.000  \n",
      "\n",
      "[256 rows x 1707 columns]\n"
     ]
    }
   ],
   "source": [
    "x_train = pd.read_csv(training_images, header = None)\n",
    "print(x_train)"
   ]
  },
  {
   "cell_type": "markdown",
   "metadata": {},
   "source": [
    "### Preview the Digits"
   ]
  },
  {
   "cell_type": "code",
   "execution_count": 419,
   "metadata": {},
   "outputs": [
    {
     "name": "stdout",
     "output_type": "stream",
     "text": [
      "   0     1     2     3     4     5     6     7     8     9     ...  1697  \\\n",
      "0     6     5     4     7     3     6     3     1     0     1  ...     8   \n",
      "\n",
      "   1698  1699  1700  1701  1702  1703  1704  1705  1706  \n",
      "0     0     5     1     9     8     9     7     9     8  \n",
      "\n",
      "[1 rows x 1707 columns]\n"
     ]
    }
   ],
   "source": [
    "y_train = pd.read_csv(digits, header = None)\n",
    "print(y_train)"
   ]
  },
  {
   "cell_type": "markdown",
   "metadata": {},
   "source": [
    "### Prepare the test data as well"
   ]
  },
  {
   "cell_type": "code",
   "execution_count": 420,
   "metadata": {},
   "outputs": [],
   "source": [
    "x_test = pd.read_csv(test_images, header = None)\n",
    "y_test = pd.read_csv(test_digits, header = None)"
   ]
  },
  {
   "cell_type": "markdown",
   "metadata": {},
   "source": [
    "### Create 10 matrices, one for each digit. Store all the matrices in a dictionary"
   ]
  },
  {
   "cell_type": "code",
   "execution_count": 421,
   "metadata": {},
   "outputs": [
    {
     "name": "stdout",
     "output_type": "stream",
     "text": [
      "(256, 252)\n"
     ]
    }
   ],
   "source": [
    "# Separate the data\n",
    "matrix_dictionary = {}\n",
    "for i in range(10):\n",
    "    matrix_dictionary.update({\"A\"+str(i):x_train.loc[:,list(y_train.loc[0,:]==i)]})\n",
    "print(matrix_dictionary['A1'].shape)\n",
    "\n",
    "labels = {0: \"0\", 1: \"1\", 2: \"2\", 3: \"3\", 4: \"4\", 5: \"5\", 6: \"6\", 7: \"7\", 8: \"8\", 9: \"9\"}"
   ]
  },
  {
   "cell_type": "markdown",
   "metadata": {},
   "source": [
    "### Perform SVD for each matrix and save each U, S, T in separate dictionaries"
   ]
  },
  {
   "cell_type": "code",
   "execution_count": 422,
   "metadata": {},
   "outputs": [
    {
     "name": "stdout",
     "output_type": "stream",
     "text": [
      "(256, 256)\n"
     ]
    }
   ],
   "source": [
    "left_singular={}\n",
    "singular_matrix={}\n",
    "right_singular={}\n",
    "for i in range(10):\n",
    "    U, S, V_T = np.linalg.svd(matrix_dictionary['A'+str(i)], full_matrices=False)\n",
    "    S= S[:21]\n",
    "    left_singular.update({\"u\"+str(i):U})\n",
    "    singular_matrix.update({\"s\"+str(i):S})\n",
    "    right_singular.update({\"v_t\"+str(i):V_T})\n",
    "print(left_singular['u0'].shape)"
   ]
  },
  {
   "cell_type": "markdown",
   "metadata": {},
   "source": [
    "#### About \"ima2.m\":"
   ]
  },
  {
   "cell_type": "markdown",
   "metadata": {},
   "source": [
    "The exercise includes a Matlab file \"ima2.m\" that we need to recreate in this case, as this implementation is in Python. Instead of creating a new function from scratch, we will take advantage of matplotlib's \"imshow\". We set the colormap to be exactly the colormap suggested in ima2.m. We also reshape to the desired shape which is 16x16. Subsequently, we print \"5\" in 10 different ways using several columns of the matrix U."
   ]
  },
  {
   "cell_type": "code",
   "execution_count": 423,
   "metadata": {},
   "outputs": [
    {
     "data": {
      "image/png": "[encoded data removed]",
      "text/plain": [
       "<Figure size 1440x720 with 10 Axes>"
      ]
     },
     "metadata": {
      "needs_background": "light"
     },
     "output_type": "display_data"
    }
   ],
   "source": [
    "plt.figure(figsize=(20,10))\n",
    "columns = 5\n",
    "mymap1 = [1.0000, 1.0000, 1.0000, 0.8715, 0.9028, 0.9028, 0.7431, 0.8056, 0.8056, 0.6146, 0.7083, 0.7083, 0.4861, 0.6111, 0.6111, 0.3889, 0.4722, 0.5139,0.2917, 0.3333, 0.4167, 0.1944, 0.1944, 0.3194, 0.0972, 0.0972, 0.1806, 0, 0, 0.0417]\n",
    "mymap1 = np.array(mymap1).reshape(-1,3)\n",
    "cmap= plt.cm.colors.ListedColormap(mymap1)\n",
    "\n",
    "for i in range(10):\n",
    "    plt.subplot(int(10/ columns + 1), columns, i + 1)\n",
    "    plt.imshow(left_singular[\"u5\"][:,i].reshape(16,16),cmap=cmap)"
   ]
  },
  {
   "cell_type": "markdown",
   "metadata": {},
   "source": [
    "### Predictor !"
   ]
  },
  {
   "cell_type": "markdown",
   "metadata": {},
   "source": [
    "In this step we define a function called \"predictor\" that will be called for the first and the third part of the exercise. This function returns two different outputs. The first output is a matrix called \"predictions\" that has 16 columns. Each column will contain the predictions for the corresponding number of basis vectors. Also, it will have as many rows as the test data. The second output will just contain a vector containing the predictions with k basis vectors. This will be used for the 3rd part, its not necessary for now."
   ]
  },
  {
   "cell_type": "code",
   "execution_count": 424,
   "metadata": {},
   "outputs": [],
   "source": [
    "def predictor(x_test, t, len_test, predictions, I):\n",
    "    prediction = []\n",
    "    for i in range(len_test):\n",
    "        residuals = []\n",
    "        for j in range(10):\n",
    "            # Note: We do matrix * vector not matrix * matrix (this happens in the whole notebook) because it saves lives\n",
    "            U=left_singular[\"u\"+str(j)][:,0:t]\n",
    "            res = np.dot(U, np.dot(U.T, x_test[i]))\n",
    "            res = norm(x_test[i] - res)\n",
    "            # This line calculates the residual value for the current digit and test image. It subtracts the projection\n",
    "            # of the test image onto the subspace spanned by the selected basis vectors from the test image itself.\n",
    "            # The norm() function calculates the Euclidean norm of the resulting residual vector.\n",
    "            residuals.append(res)\n",
    "        index_min = np.argmin(residuals)\n",
    "        prediction.append(index_min)\n",
    "\n",
    "    prediction=np.array(prediction)\n",
    "    predictions=np.hstack((predictions,prediction.reshape(-1,1)))\n",
    "\n",
    "    return predictions, prediction"
   ]
  },
  {
   "cell_type": "markdown",
   "metadata": {},
   "source": [
    "#### Note: This part could be included in the function, but its better this way so that the above function can be used for the third part as well."
   ]
  },
  {
   "cell_type": "code",
   "execution_count": 425,
   "metadata": {},
   "outputs": [
    {
     "name": "stdout",
     "output_type": "stream",
     "text": [
      "Elapsed time: 58.10 seconds\n"
     ]
    }
   ],
   "source": [
    "start_time_1 = time.time()\n",
    "k = np.arange(5, 21)\n",
    "I = np.eye(x_test.shape[0])\n",
    "len_test=x_test.shape[1]\n",
    "predictions=np.empty((y_test.shape[1],0), dtype = int)\n",
    "for t in list(k):\n",
    "    predictions, _ = predictor(x_test, t, len_test, predictions, I)\n",
    "elapsed_time_1 = time.time() - start_time_1\n",
    "print(\"Elapsed time: {:.2f} seconds\".format(elapsed_time_1))"
   ]
  },
  {
   "cell_type": "markdown",
   "metadata": {},
   "source": [
    "### The shape of the resulting matrix \"predictions\" which is crucial for this notebook"
   ]
  },
  {
   "cell_type": "code",
   "execution_count": 426,
   "metadata": {},
   "outputs": [
    {
     "name": "stdout",
     "output_type": "stream",
     "text": [
      "(2007, 16)\n"
     ]
    }
   ],
   "source": [
    "print(predictions.shape)"
   ]
  },
  {
   "cell_type": "markdown",
   "metadata": {},
   "source": [
    "The plot below shows which is the best number of basis vectors in total, in terms of accuracy. We can see that 18 basis vectors is the best case."
   ]
  },
  {
   "cell_type": "code",
   "execution_count": 427,
   "metadata": {},
   "outputs": [
    {
     "data": {
      "image/png": "[encoded data removed]",
      "text/plain": [
       "<Figure size 432x288 with 1 Axes>"
      ]
     },
     "metadata": {
      "needs_background": "light"
     },
     "output_type": "display_data"
    }
   ],
   "source": [
    "scores=[]\n",
    "for i in range(len(k)):\n",
    "    score=accuracy_score(y_test.loc[0,:],predictions[:,i])\n",
    "    scores.append(score)\n",
    "data={\"Basis vectors\":list(k), \"accuracy_score\":scores}\n",
    "\n",
    "plt.plot(k, scores, 'o-')\n",
    "plt.xlabel('Number of Basis Vectors')\n",
    "plt.ylabel('Accuracy Score')\n",
    "plt.title('Accuracy Score vs Number of Basis Vectors')\n",
    "plt.grid(True)\n",
    "plt.show()"
   ]
  },
  {
   "cell_type": "markdown",
   "metadata": {},
   "source": [
    "### When we use 18 basis vectors the exact accuracy is:"
   ]
  },
  {
   "cell_type": "code",
   "execution_count": 428,
   "metadata": {},
   "outputs": [
    {
     "name": "stdout",
     "output_type": "stream",
     "text": [
      "The unfiltered accuracy for the main algorithm is:  0.9417040358744395\n"
     ]
    }
   ],
   "source": [
    "total_data = predictions.shape[0]\n",
    "misclassified = np.where(y_test.loc[0,:] != predictions[:, 13])\n",
    "initial_accuracy = (total_data-len(misclassified[0]))/total_data\n",
    "print(\"The unfiltered accuracy for the main algorithm is: \", initial_accuracy)"
   ]
  },
  {
   "cell_type": "markdown",
   "metadata": {},
   "source": [
    "### The accuracy with 15 basis vectors seems really close. Is it better  than 18 though?"
   ]
  },
  {
   "cell_type": "code",
   "execution_count": 429,
   "metadata": {},
   "outputs": [
    {
     "name": "stdout",
     "output_type": "stream",
     "text": [
      "The unfiltered accuracy for the main algorithm is:  0.9412057797708022\n"
     ]
    }
   ],
   "source": [
    "misclassified_15 = np.where(y_test.loc[0,:] != predictions[:, 10])\n",
    "accuracy_for_15 = (total_data-len(misclassified_15[0]))/total_data_15\n",
    "print(\"The unfiltered accuracy for the main algorithm is: \", accuracy_for_15)"
   ]
  },
  {
   "cell_type": "markdown",
   "metadata": {},
   "source": [
    "### Confusion Matrix"
   ]
  },
  {
   "cell_type": "markdown",
   "metadata": {},
   "source": [
    "We create a confusion matrix that will show how well the data are classified and possibly spot some \"confusions\" between numbers. For example, 5 seems to be misclassified mostly as a 7 and 9 as a 4."
   ]
  },
  {
   "cell_type": "code",
   "execution_count": 430,
   "metadata": {},
   "outputs": [
    {
     "data": {
      "text/html": [
       "<div>\n",
       "<style scoped>\n",
       "    .dataframe tbody tr th:only-of-type {\n",
       "        vertical-align: middle;\n",
       "    }\n",
       "\n",
       "    .dataframe tbody tr th {\n",
       "        vertical-align: top;\n",
       "    }\n",
       "\n",
       "    .dataframe thead th {\n",
       "        text-align: right;\n",
       "    }\n",
       "</style>\n",
       "<table border=\"1\" class=\"dataframe\">\n",
       "  <thead>\n",
       "    <tr style=\"text-align: right;\">\n",
       "      <th></th>\n",
       "      <th>0</th>\n",
       "      <th>1</th>\n",
       "      <th>2</th>\n",
       "      <th>3</th>\n",
       "      <th>4</th>\n",
       "      <th>5</th>\n",
       "      <th>6</th>\n",
       "      <th>7</th>\n",
       "      <th>8</th>\n",
       "      <th>9</th>\n",
       "    </tr>\n",
       "  </thead>\n",
       "  <tbody>\n",
       "    <tr>\n",
       "      <th>0</th>\n",
       "      <td>355</td>\n",
       "      <td>0</td>\n",
       "      <td>2</td>\n",
       "      <td>0</td>\n",
       "      <td>1</td>\n",
       "      <td>0</td>\n",
       "      <td>0</td>\n",
       "      <td>0</td>\n",
       "      <td>0</td>\n",
       "      <td>1</td>\n",
       "    </tr>\n",
       "    <tr>\n",
       "      <th>1</th>\n",
       "      <td>0</td>\n",
       "      <td>259</td>\n",
       "      <td>0</td>\n",
       "      <td>0</td>\n",
       "      <td>3</td>\n",
       "      <td>0</td>\n",
       "      <td>2</td>\n",
       "      <td>0</td>\n",
       "      <td>0</td>\n",
       "      <td>0</td>\n",
       "    </tr>\n",
       "    <tr>\n",
       "      <th>2</th>\n",
       "      <td>8</td>\n",
       "      <td>1</td>\n",
       "      <td>178</td>\n",
       "      <td>2</td>\n",
       "      <td>5</td>\n",
       "      <td>0</td>\n",
       "      <td>0</td>\n",
       "      <td>1</td>\n",
       "      <td>3</td>\n",
       "      <td>0</td>\n",
       "    </tr>\n",
       "    <tr>\n",
       "      <th>3</th>\n",
       "      <td>2</td>\n",
       "      <td>0</td>\n",
       "      <td>3</td>\n",
       "      <td>150</td>\n",
       "      <td>1</td>\n",
       "      <td>6</td>\n",
       "      <td>0</td>\n",
       "      <td>1</td>\n",
       "      <td>2</td>\n",
       "      <td>1</td>\n",
       "    </tr>\n",
       "    <tr>\n",
       "      <th>4</th>\n",
       "      <td>2</td>\n",
       "      <td>1</td>\n",
       "      <td>0</td>\n",
       "      <td>0</td>\n",
       "      <td>185</td>\n",
       "      <td>2</td>\n",
       "      <td>0</td>\n",
       "      <td>3</td>\n",
       "      <td>0</td>\n",
       "      <td>7</td>\n",
       "    </tr>\n",
       "    <tr>\n",
       "      <th>5</th>\n",
       "      <td>7</td>\n",
       "      <td>1</td>\n",
       "      <td>1</td>\n",
       "      <td>5</td>\n",
       "      <td>0</td>\n",
       "      <td>141</td>\n",
       "      <td>0</td>\n",
       "      <td>0</td>\n",
       "      <td>2</td>\n",
       "      <td>3</td>\n",
       "    </tr>\n",
       "    <tr>\n",
       "      <th>6</th>\n",
       "      <td>2</td>\n",
       "      <td>1</td>\n",
       "      <td>0</td>\n",
       "      <td>0</td>\n",
       "      <td>2</td>\n",
       "      <td>1</td>\n",
       "      <td>163</td>\n",
       "      <td>0</td>\n",
       "      <td>1</td>\n",
       "      <td>0</td>\n",
       "    </tr>\n",
       "    <tr>\n",
       "      <th>7</th>\n",
       "      <td>0</td>\n",
       "      <td>1</td>\n",
       "      <td>1</td>\n",
       "      <td>0</td>\n",
       "      <td>3</td>\n",
       "      <td>0</td>\n",
       "      <td>0</td>\n",
       "      <td>141</td>\n",
       "      <td>0</td>\n",
       "      <td>1</td>\n",
       "    </tr>\n",
       "    <tr>\n",
       "      <th>8</th>\n",
       "      <td>2</td>\n",
       "      <td>0</td>\n",
       "      <td>1</td>\n",
       "      <td>6</td>\n",
       "      <td>0</td>\n",
       "      <td>1</td>\n",
       "      <td>0</td>\n",
       "      <td>0</td>\n",
       "      <td>153</td>\n",
       "      <td>3</td>\n",
       "    </tr>\n",
       "    <tr>\n",
       "      <th>9</th>\n",
       "      <td>0</td>\n",
       "      <td>2</td>\n",
       "      <td>0</td>\n",
       "      <td>1</td>\n",
       "      <td>4</td>\n",
       "      <td>0</td>\n",
       "      <td>0</td>\n",
       "      <td>3</td>\n",
       "      <td>2</td>\n",
       "      <td>165</td>\n",
       "    </tr>\n",
       "  </tbody>\n",
       "</table>\n",
       "</div>"
      ],
      "text/plain": [
       "     0    1    2    3    4    5    6    7    8    9\n",
       "0  355    0    2    0    1    0    0    0    0    1\n",
       "1    0  259    0    0    3    0    2    0    0    0\n",
       "2    8    1  178    2    5    0    0    1    3    0\n",
       "3    2    0    3  150    1    6    0    1    2    1\n",
       "4    2    1    0    0  185    2    0    3    0    7\n",
       "5    7    1    1    5    0  141    0    0    2    3\n",
       "6    2    1    0    0    2    1  163    0    1    0\n",
       "7    0    1    1    0    3    0    0  141    0    1\n",
       "8    2    0    1    6    0    1    0    0  153    3\n",
       "9    0    2    0    1    4    0    0    3    2  165"
      ]
     },
     "execution_count": 430,
     "metadata": {},
     "output_type": "execute_result"
    }
   ],
   "source": [
    "pd.set_option('display.max_colwidth',12)\n",
    "confusion_matrix_df = pd.DataFrame(confusion_matrix(y_test.loc[0,:],predictions[:,13]))\n",
    "confusion_matrix_df = confusion_matrix_df.rename(columns = labels, index = labels)\n",
    "confusion_matrix_df"
   ]
  },
  {
   "cell_type": "markdown",
   "metadata": {},
   "source": [
    "### Classification Report"
   ]
  },
  {
   "cell_type": "markdown",
   "metadata": {},
   "source": [
    "Moreover, we perform a classification report to see more trustworthy metrics like F1-score. Accuracy is a good metric but especially in multi-class classification it can be misleading. The numbers 3 and 5 seem to be the most difficult to classify, while 1 is (as expected) the easiest. Also, it should be noted that 6 has surprisingly good results."
   ]
  },
  {
   "cell_type": "code",
   "execution_count": 431,
   "metadata": {},
   "outputs": [
    {
     "name": "stdout",
     "output_type": "stream",
     "text": [
      "              precision    recall  f1-score   support\n",
      "\n",
      "           0       0.94      0.99      0.96       359\n",
      "           1       0.97      0.98      0.98       264\n",
      "           2       0.96      0.90      0.93       198\n",
      "           3       0.91      0.90      0.91       166\n",
      "           4       0.91      0.93      0.92       200\n",
      "           5       0.93      0.88      0.91       160\n",
      "           6       0.99      0.96      0.97       170\n",
      "           7       0.95      0.96      0.95       147\n",
      "           8       0.94      0.92      0.93       166\n",
      "           9       0.91      0.93      0.92       177\n",
      "\n",
      "    accuracy                           0.94      2007\n",
      "   macro avg       0.94      0.94      0.94      2007\n",
      "weighted avg       0.94      0.94      0.94      2007\n",
      "\n"
     ]
    }
   ],
   "source": [
    "print(classification_report(y_test.loc[0,:],predictions[:,13]))"
   ]
  },
  {
   "cell_type": "markdown",
   "metadata": {},
   "source": [
    "But why are some numbers misclassified? Below we plot some examples of some poorly written numbers that cause our algorithm to fail occasionally."
   ]
  },
  {
   "cell_type": "code",
   "execution_count": 432,
   "metadata": {},
   "outputs": [
    {
     "data": {
      "image/png": "[encoded data removed]",
      "text/plain": [
       "<Figure size 1440x720 with 10 Axes>"
      ]
     },
     "metadata": {
      "needs_background": "light"
     },
     "output_type": "display_data"
    }
   ],
   "source": [
    "plt.figure(figsize=(20, 10))\n",
    "columns = 5\n",
    "\n",
    "# Adjust the spacing between subplots\n",
    "plt.subplots_adjust(hspace=0.5)\n",
    "\n",
    "for i in range(2, 12):\n",
    "    misclassified_id = misclassified[0][i]\n",
    "    image = x_test[misclassified_id]\n",
    "\n",
    "    plt.subplot(int(10 / columns + 1), columns, i - 1)\n",
    "    plt.imshow(image.to_numpy().reshape(16, 16), cmap=cmap)\n",
    "    plt.title(\"True label:\" + str(y_test.loc[0, misclassified_id]) + '\\n' + \"Predicted label:\" + str(\n",
    "        predictions[misclassified_id, 13]))\n",
    "\n",
    "plt.show()"
   ]
  },
  {
   "cell_type": "markdown",
   "metadata": {},
   "source": [
    "The following plot will show the difference in singular values between each digit. We hope to shed some light to the peculiarities of each digit, so that we can choose a different number of basis vectors for some."
   ]
  },
  {
   "cell_type": "code",
   "execution_count": 433,
   "metadata": {},
   "outputs": [
    {
     "data": {
      "image/png": "[encoded data removed]",
      "text/plain": [
       "<Figure size 720x432 with 1 Axes>"
      ]
     },
     "metadata": {
      "needs_background": "light"
     },
     "output_type": "display_data"
    }
   ],
   "source": [
    "singular_values = []\n",
    "\n",
    "for i in range(10):\n",
    "    singular_values.append(singular_matrix['s' + str(i)])\n",
    "\n",
    "# Plotting singular values for each class\n",
    "plt.figure(figsize=(10, 6))\n",
    "for i in range(10):\n",
    "    plt.plot(singular_values[i], label='Class {}'.format(i))\n",
    "plt.xlabel('Singular Value Index')\n",
    "plt.ylabel('Singular Value')\n",
    "plt.title('Singular Values of Different Classes')\n",
    "plt.legend()\n",
    "plt.show()"
   ]
  },
  {
   "cell_type": "markdown",
   "metadata": {},
   "source": [
    "From the above plot we see that the singular values of '0' and '2' have a significant difference from those of '1'. This does not necessarily mean that they will need a different basis vector, as we can't really weigh the importance of the data that we are cutting, but we will attempt to calculate the ideal number of basis vectors, and we expect to see a lower number for '1'."
   ]
  },
  {
   "cell_type": "markdown",
   "metadata": {},
   "source": [
    "In fact, we don't need to calculate them because our matrix \"predictions\" contains everything we need. All we need to do is extract the information. We will create a matrix called \"accuracy_matrix\" that will contain the accuracy of the classification of every digit, for all the distinct basis' from 5 to 20. This would be a (very) long process in terms of computation time but \"predictions\" matrix helps us reduce significantly."
   ]
  },
  {
   "cell_type": "markdown",
   "metadata": {},
   "source": [
    "### First, calculate the total appearances of each digit using the confusion matrix we generated in the first part."
   ]
  },
  {
   "cell_type": "code",
   "execution_count": 434,
   "metadata": {},
   "outputs": [
    {
     "name": "stdout",
     "output_type": "stream",
     "text": [
      "{'0': 359, '1': 264, '2': 198, '3': 166, '4': 200, '5': 160, '6': 170, '7': 147, '8': 166, '9': 177}\n"
     ]
    }
   ],
   "source": [
    "total_sums = {}\n",
    "\n",
    "for digit in labels.values():\n",
    "    total_sums[digit] = confusion_matrix_df.loc[digit].sum()\n",
    "\n",
    "print(total_sums)\n"
   ]
  },
  {
   "cell_type": "markdown",
   "metadata": {},
   "source": [
    "### Create the accuracy matrix"
   ]
  },
  {
   "cell_type": "code",
   "execution_count": 435,
   "metadata": {},
   "outputs": [],
   "source": [
    "accuracy_matrix = np.zeros((10, 16))\n",
    "for counter, column in enumerate(predictions.T):\n",
    "    for digit in labels.values():\n",
    "        class_accuracy = np.where((column == np.array(y_test)[0]) & (np.array(y_test)[0] == int(digit)))[0]\n",
    "        accuracy_matrix[int(digit), counter] = (len(class_accuracy))/total_sums[digit]"
   ]
  },
  {
   "cell_type": "markdown",
   "metadata": {},
   "source": [
    "### Extract the ideal basis vectors for each digit"
   ]
  },
  {
   "cell_type": "code",
   "execution_count": 436,
   "metadata": {},
   "outputs": [
    {
     "name": "stdout",
     "output_type": "stream",
     "text": [
      "The ideal number of basis vectors for 0 for this specific dataset is: 14\n",
      "The ideal number of basis vectors for 1 for this specific dataset is: 9\n",
      "The ideal number of basis vectors for 2 for this specific dataset is: 7\n",
      "The ideal number of basis vectors for 3 for this specific dataset is: 18\n",
      "The ideal number of basis vectors for 4 for this specific dataset is: 14\n",
      "The ideal number of basis vectors for 5 for this specific dataset is: 18\n",
      "The ideal number of basis vectors for 6 for this specific dataset is: 20\n",
      "The ideal number of basis vectors for 7 for this specific dataset is: 15\n",
      "The ideal number of basis vectors for 8 for this specific dataset is: 16\n",
      "The ideal number of basis vectors for 9 for this specific dataset is: 10\n"
     ]
    }
   ],
   "source": [
    "ideal_basis_vecs = {}\n",
    "for counter, row in enumerate(accuracy_matrix):\n",
    "    my_max = 0\n",
    "    max_value = 0\n",
    "    for index, value in enumerate(row):\n",
    "        if value > max_value:\n",
    "            my_max = index\n",
    "            max_value = value\n",
    "    ideal_basis_vecs[counter] = my_max\n",
    "    \n",
    "for i in labels.values():\n",
    "    print(\"The ideal number of basis vectors for \" + str(i) + \" for this specific dataset is:\", ideal_basis_vecs[int(i)]+5)"
   ]
  },
  {
   "cell_type": "markdown",
   "metadata": {},
   "source": [
    "Of course these results are tuned precisely for this dataset, and specifically the test dataset. We can't use them to run the algorithm again because that would be obvious overfitting. The reason we generated them and what the above output really says is that for the current dataset we might have a general total best when we have 18 basis vectors, but each digit achieves the personal best accuracy for a different basis. It does not mean that if we take another totally foreign dataset that these vectors would be ideal. That could happen occasionally but not necessarily."
   ]
  },
  {
   "cell_type": "markdown",
   "metadata": {},
   "source": [
    "The biggest part of these results, can be indeed used in order to conclude what is approximately a good basis vector for a digit, but that's not the case for all the digits. For example, we can see both in the plot and in these results, that '1' needs far less basis vectors than the other digits. This is intuitively correct as '1' is a relatively simple digit to write and most likely the simplest from all the digits. On the other hand, we see for example that '2' needs 3 basis vectors and intuitely this is confusing, as '2' is not a particularly easy number to classify. What happens is that '2' was classified with a great accuracy on this dataset, but if we wanted to generalize our algorithm for bigger datasets and we set 3 basis vectors for '2', there is a (very) big possibility that the results would not be optimal. Probably they would be far from optimal. "
   ]
  },
  {
   "cell_type": "markdown",
   "metadata": {},
   "source": [
    "To sum up, yes each digit is motivated to use a different number of basis vectors than 18 that was the general best. We calculate effectively using the matrix \"predictions\" the ideal number of basis vectors for each digit on the test dataset. "
   ]
  },
  {
   "cell_type": "markdown",
   "metadata": {},
   "source": [
    "Finally, since the exercise is asking for some experiments, even though it is partly overfitting we will run the algorithm again using 18 vectors for each digit, but for digits 0 and 1 we will use the ideal vectors we found above. If we did everything right, the initial accuracy should be improved."
   ]
  },
  {
   "cell_type": "code",
   "execution_count": 437,
   "metadata": {},
   "outputs": [
    {
     "name": "stdout",
     "output_type": "stream",
     "text": [
      "The improved accuracy is:  0.942700548081714\n",
      "We improved the initial accuracy by:  0.01 %\n"
     ]
    }
   ],
   "source": [
    "ideal_basis = [14, 9, 18, 18, 18, 18, 18, 18, 18, 18]\n",
    "I = np.eye(x_test.shape[0])\n",
    "len_test=x_test.shape[1]\n",
    "results = {}\n",
    "digit_specific_accuracies = []\n",
    "predictions_bonus_1 =np.empty((y_test.shape[1],0), dtype = int)\n",
    "\n",
    "total_correct_preds = 0\n",
    "\n",
    "for digit in range(10):\n",
    "    _, prediction_new = predictor(x_test, ideal_basis[digit], len_test, predictions_bonus_1, I)\n",
    "    correct_predictions = np.sum((prediction_new == np.array([y_test]))[0] & (np.array([y_test])[0] == digit))\n",
    "    total_predictions = np.sum(np.array([y_test])[0] == digit)\n",
    "    digit_specific_accuracies.append(correct_predictions/total_predictions)\n",
    "    total_correct_preds += correct_predictions\n",
    "    \n",
    "total_accuracy = total_correct_preds/len_test\n",
    "print(\"The improved accuracy is: \", total_accuracy)\n",
    "print(f\"We improved the initial accuracy by:  {(((total_accuracy-initial_accuracy)/initial_accuracy)*10):.2f} %\")"
   ]
  },
  {
   "cell_type": "markdown",
   "metadata": {},
   "source": [
    "# Bonus Tasks"
   ]
  },
  {
   "cell_type": "markdown",
   "metadata": {},
   "source": [
    "## Two-Phase SVD"
   ]
  },
  {
   "cell_type": "markdown",
   "metadata": {},
   "source": [
    "### Predictor #Vol_2"
   ]
  },
  {
   "cell_type": "markdown",
   "metadata": {},
   "source": [
    "This algorithm will be implemented with a similar function like \"predictor\". The difference is that inside there will be an if statement, that will check if the first column is enough to perform the classification. If it is, then classify the number, if not, then run the initial algorithm. That will happen with the help of a threshold variable that will be given as an argument to the function."
   ]
  },
  {
   "cell_type": "markdown",
   "metadata": {},
   "source": [
    "In general, there is no rule of thumb in this exercise. Someone that wants the best results in terms of accuracy would not proceed to implement this algorithm. It will not have better results than the basic version of the algorithm in terms of accuracy. The reason that somebody would use this algorithm, is due to saving operations and computing time. So we have the \"permission\" to set the threshold low enough in a way, that the first phase will make at least a noteworthy number of classifications. It won't generate as good results in terms of accuracy but it will save time. The real question that arises is, how much accuracy are we willing to sacrifice in order to save operations?"
   ]
  },
  {
   "cell_type": "code",
   "execution_count": 438,
   "metadata": {},
   "outputs": [],
   "source": [
    "def predictor_bonus(x_test, threshold):\n",
    "    counter1 = 0\n",
    "    k = np.arange(5, 21)\n",
    "    I = np.eye(x_test.shape[0])\n",
    "    len_test=x_test.shape[1]\n",
    "\n",
    "    # First Phase: Check if 1 column is enough to make the classification\n",
    "    prediction_1_basis = []\n",
    "    notes = {}\n",
    "    for i in range(len_test):\n",
    "        residuals = []\n",
    "        for j in range(10):\n",
    "            U = left_singular[\"u\"+str(j)][:,0:1]\n",
    "            res = np.dot(U, np.dot(U.T, x_test[i]))\n",
    "            res = norm(x_test[i] - res)\n",
    "            residuals.append(res)\n",
    "        # Take the first and second lower values in residuals and compare them. If their relative ratio is less than the \n",
    "        # threshold, then make the classification. If its bigger, continue and make the classification in Phase 2.\n",
    "        min_res = min(residuals)\n",
    "        index_min = np.argmin(residuals)\n",
    "        residuals.pop(index_min)\n",
    "        sec_min_res = min(residuals)\n",
    "        if (min_res/sec_min_res) <= threshold:\n",
    "            prediction_1_basis.append(index_min)\n",
    "            notes[i] = counter1\n",
    "            counter1+=1\n",
    "    predictions_bonus=np.empty((y_test.shape[1],0), dtype = int)\n",
    "\n",
    "    # Second Phase\n",
    "    for t in list(k):\n",
    "        prediction_t_basis = []\n",
    "        for i in range(len_test):\n",
    "            # Check if you classified this row already in the first phase\n",
    "            # 'notes' is a dictionary in order to make the retrievals as fast as possible (it has complexity O(1))\n",
    "            if i in notes:\n",
    "                prediction_t_basis.append(prediction_1_basis[notes[i]])\n",
    "                continue\n",
    "            else:\n",
    "                residuals = []\n",
    "                for j in range(10):\n",
    "                    U=left_singular[\"u\"+str(j)][:,0:t]\n",
    "                    res = np.dot(U, np.dot(U.T, x_test[i]))\n",
    "                    res = norm(x_test[i] - res)\n",
    "                    residuals.append(res)\n",
    "                index_min = np.argmin(residuals)\n",
    "                prediction_t_basis.append(index_min)\n",
    "        prediction_t_basis = np.array(prediction_t_basis)\n",
    "        predictions_bonus = np.hstack((predictions_bonus,prediction_t_basis.reshape(-1,1)))\n",
    "\n",
    "    return predictions_bonus, counter1"
   ]
  },
  {
   "cell_type": "markdown",
   "metadata": {},
   "source": [
    "### Tune the threshold. Which balances accuracy and efficiency best?"
   ]
  },
  {
   "cell_type": "markdown",
   "metadata": {},
   "source": [
    "### We set the maximum accuracy loss to be 1%"
   ]
  },
  {
   "cell_type": "markdown",
   "metadata": {},
   "source": [
    "After performing some experiments we conclude that the accuracy will exceed 1% when the threshold is between 0.85 and 0.9. We attempt to find the optimal threshold with precision 10\\^(-3). Spoiler alert, the optimal threshold within this error is 0.8875, you can remove the comment below and see for yourself, I am skipping it as it significantly increases run time (as expected since it runs x5 times)."
   ]
  },
  {
   "cell_type": "code",
   "execution_count": 439,
   "metadata": {},
   "outputs": [
    {
     "name": "stdout",
     "output_type": "stream",
     "text": [
      "The optimal threshold is:  0.8875\n",
      "The accuracy is:  0.931738913801694\n",
      "Elapsed time: 26.81 seconds\n"
     ]
    }
   ],
   "source": [
    "#threshold = np.linspace(0.85, 0.9, 5)\n",
    "threshold = [0.8875]\n",
    "accuracies = []\n",
    "\n",
    "start_time_2 = time.time()\n",
    "for counter, i in enumerate(threshold):\n",
    "    predictions_bonus, counter1 = predictor_bonus(x_test, i)\n",
    "    misclassified_i = np.where(y_test.loc[0,:] != predictions_bonus[:, 13])\n",
    "    new_accuracy = (total_data-len(misclassified_i[0]))/total_data\n",
    "    accuracies.append(new_accuracy)\n",
    "    if initial_accuracy - new_accuracy > 0.01:\n",
    "        break;\n",
    "optimal_threshold = threshold[counter-1]\n",
    "print(\"The optimal threshold is: \", optimal_threshold)\n",
    "if len(accuracies)>=2:\n",
    "    print(\"The accuracy is: \", accuracies[-2])\n",
    "else:\n",
    "    print(\"The accuracy is: \", accuracies[0])\n",
    "\n",
    "elapsed_time_2 = time.time() - start_time_2\n",
    "print(\"Elapsed time: {:.2f} seconds\".format(elapsed_time_2))"
   ]
  },
  {
   "cell_type": "markdown",
   "metadata": {},
   "source": [
    "### How frequently was the 2nd stage unnecessary?"
   ]
  },
  {
   "cell_type": "code",
   "execution_count": 440,
   "metadata": {},
   "outputs": [
    {
     "name": "stdout",
     "output_type": "stream",
     "text": [
      "57.10 %\n"
     ]
    }
   ],
   "source": [
    "result = (1 - (total_data-counter1) / total_data) * 100\n",
    "formatted_result = \"{:.2f}\".format(result)\n",
    "print(formatted_result, \"%\")"
   ]
  },
  {
   "cell_type": "markdown",
   "metadata": {},
   "source": [
    "### We lost 1% accuracy. What did we earn in terms of efficiency?"
   ]
  },
  {
   "cell_type": "code",
   "execution_count": 441,
   "metadata": {},
   "outputs": [
    {
     "name": "stdout",
     "output_type": "stream",
     "text": [
      "This algorithm is 2.17 times faster than the original one\n"
     ]
    }
   ],
   "source": [
    "time_earned = elapsed_time_1/elapsed_time_2\n",
    "print(\"This algorithm is {:.2f} times faster than the original one\".format(time_earned))"
   ]
  },
  {
   "cell_type": "markdown",
   "metadata": {},
   "source": [
    "### Plot the accuracy"
   ]
  },
  {
   "cell_type": "code",
   "execution_count": 442,
   "metadata": {},
   "outputs": [
    {
     "data": {
      "image/png": "[encoded data removed]",
      "text/plain": [
       "<Figure size 432x288 with 1 Axes>"
      ]
     },
     "metadata": {
      "needs_background": "light"
     },
     "output_type": "display_data"
    }
   ],
   "source": [
    "scores=[]\n",
    "for i in range(len(k)):\n",
    "    score=accuracy_score(y_test.loc[0,:],predictions_bonus[:,i])\n",
    "    scores.append(score)\n",
    "data={\"Basis vectors\":list(k), \"accuracy_score\":scores}\n",
    "\n",
    "plt.plot(k, scores, 'o-')\n",
    "plt.xlabel('Number of Basis Vectors')\n",
    "plt.ylabel('Accuracy Score')\n",
    "plt.title('Accuracy Score vs Number of Basis Vectors for Two-Phase SVD')\n",
    "plt.grid(True)\n",
    "plt.show()"
   ]
  },
  {
   "cell_type": "markdown",
   "metadata": {},
   "source": [
    "### The confusion matrix of Two-Phase SVD"
   ]
  },
  {
   "cell_type": "code",
   "execution_count": 443,
   "metadata": {},
   "outputs": [
    {
     "data": {
      "text/html": [
       "<div>\n",
       "<style scoped>\n",
       "    .dataframe tbody tr th:only-of-type {\n",
       "        vertical-align: middle;\n",
       "    }\n",
       "\n",
       "    .dataframe tbody tr th {\n",
       "        vertical-align: top;\n",
       "    }\n",
       "\n",
       "    .dataframe thead th {\n",
       "        text-align: right;\n",
       "    }\n",
       "</style>\n",
       "<table border=\"1\" class=\"dataframe\">\n",
       "  <thead>\n",
       "    <tr style=\"text-align: right;\">\n",
       "      <th></th>\n",
       "      <th>0</th>\n",
       "      <th>1</th>\n",
       "      <th>2</th>\n",
       "      <th>3</th>\n",
       "      <th>4</th>\n",
       "      <th>5</th>\n",
       "      <th>6</th>\n",
       "      <th>7</th>\n",
       "      <th>8</th>\n",
       "      <th>9</th>\n",
       "    </tr>\n",
       "  </thead>\n",
       "  <tbody>\n",
       "    <tr>\n",
       "      <th>0</th>\n",
       "      <td>350</td>\n",
       "      <td>0</td>\n",
       "      <td>2</td>\n",
       "      <td>0</td>\n",
       "      <td>1</td>\n",
       "      <td>0</td>\n",
       "      <td>5</td>\n",
       "      <td>0</td>\n",
       "      <td>0</td>\n",
       "      <td>1</td>\n",
       "    </tr>\n",
       "    <tr>\n",
       "      <th>1</th>\n",
       "      <td>0</td>\n",
       "      <td>259</td>\n",
       "      <td>0</td>\n",
       "      <td>0</td>\n",
       "      <td>3</td>\n",
       "      <td>0</td>\n",
       "      <td>2</td>\n",
       "      <td>0</td>\n",
       "      <td>0</td>\n",
       "      <td>0</td>\n",
       "    </tr>\n",
       "    <tr>\n",
       "      <th>2</th>\n",
       "      <td>8</td>\n",
       "      <td>1</td>\n",
       "      <td>174</td>\n",
       "      <td>3</td>\n",
       "      <td>7</td>\n",
       "      <td>0</td>\n",
       "      <td>0</td>\n",
       "      <td>1</td>\n",
       "      <td>4</td>\n",
       "      <td>0</td>\n",
       "    </tr>\n",
       "    <tr>\n",
       "      <th>3</th>\n",
       "      <td>2</td>\n",
       "      <td>0</td>\n",
       "      <td>3</td>\n",
       "      <td>150</td>\n",
       "      <td>1</td>\n",
       "      <td>6</td>\n",
       "      <td>0</td>\n",
       "      <td>1</td>\n",
       "      <td>2</td>\n",
       "      <td>1</td>\n",
       "    </tr>\n",
       "    <tr>\n",
       "      <th>4</th>\n",
       "      <td>2</td>\n",
       "      <td>2</td>\n",
       "      <td>0</td>\n",
       "      <td>0</td>\n",
       "      <td>184</td>\n",
       "      <td>1</td>\n",
       "      <td>0</td>\n",
       "      <td>3</td>\n",
       "      <td>0</td>\n",
       "      <td>8</td>\n",
       "    </tr>\n",
       "    <tr>\n",
       "      <th>5</th>\n",
       "      <td>7</td>\n",
       "      <td>1</td>\n",
       "      <td>1</td>\n",
       "      <td>5</td>\n",
       "      <td>1</td>\n",
       "      <td>140</td>\n",
       "      <td>0</td>\n",
       "      <td>0</td>\n",
       "      <td>2</td>\n",
       "      <td>3</td>\n",
       "    </tr>\n",
       "    <tr>\n",
       "      <th>6</th>\n",
       "      <td>2</td>\n",
       "      <td>1</td>\n",
       "      <td>0</td>\n",
       "      <td>0</td>\n",
       "      <td>2</td>\n",
       "      <td>1</td>\n",
       "      <td>163</td>\n",
       "      <td>0</td>\n",
       "      <td>1</td>\n",
       "      <td>0</td>\n",
       "    </tr>\n",
       "    <tr>\n",
       "      <th>7</th>\n",
       "      <td>0</td>\n",
       "      <td>2</td>\n",
       "      <td>1</td>\n",
       "      <td>0</td>\n",
       "      <td>3</td>\n",
       "      <td>0</td>\n",
       "      <td>0</td>\n",
       "      <td>138</td>\n",
       "      <td>0</td>\n",
       "      <td>3</td>\n",
       "    </tr>\n",
       "    <tr>\n",
       "      <th>8</th>\n",
       "      <td>2</td>\n",
       "      <td>2</td>\n",
       "      <td>1</td>\n",
       "      <td>6</td>\n",
       "      <td>0</td>\n",
       "      <td>1</td>\n",
       "      <td>0</td>\n",
       "      <td>0</td>\n",
       "      <td>151</td>\n",
       "      <td>3</td>\n",
       "    </tr>\n",
       "    <tr>\n",
       "      <th>9</th>\n",
       "      <td>0</td>\n",
       "      <td>4</td>\n",
       "      <td>0</td>\n",
       "      <td>1</td>\n",
       "      <td>6</td>\n",
       "      <td>0</td>\n",
       "      <td>0</td>\n",
       "      <td>3</td>\n",
       "      <td>2</td>\n",
       "      <td>161</td>\n",
       "    </tr>\n",
       "  </tbody>\n",
       "</table>\n",
       "</div>"
      ],
      "text/plain": [
       "     0    1    2    3    4    5    6    7    8    9\n",
       "0  350    0    2    0    1    0    5    0    0    1\n",
       "1    0  259    0    0    3    0    2    0    0    0\n",
       "2    8    1  174    3    7    0    0    1    4    0\n",
       "3    2    0    3  150    1    6    0    1    2    1\n",
       "4    2    2    0    0  184    1    0    3    0    8\n",
       "5    7    1    1    5    1  140    0    0    2    3\n",
       "6    2    1    0    0    2    1  163    0    1    0\n",
       "7    0    2    1    0    3    0    0  138    0    3\n",
       "8    2    2    1    6    0    1    0    0  151    3\n",
       "9    0    4    0    1    6    0    0    3    2  161"
      ]
     },
     "execution_count": 443,
     "metadata": {},
     "output_type": "execute_result"
    }
   ],
   "source": [
    "pd.set_option('display.max_colwidth',12)\n",
    "confusion_matrix_df_2 = pd.DataFrame(confusion_matrix(y_test.loc[0,:],predictions_bonus[:,13]))\n",
    "confusion_matrix_df_2 = confusion_matrix_df_2.rename(columns = labels, index = labels)\n",
    "confusion_matrix_df_2"
   ]
  },
  {
   "cell_type": "markdown",
   "metadata": {},
   "source": [
    "#### The classification report of Two-Phase SVD"
   ]
  },
  {
   "cell_type": "code",
   "execution_count": 444,
   "metadata": {},
   "outputs": [
    {
     "name": "stdout",
     "output_type": "stream",
     "text": [
      "              precision    recall  f1-score   support\n",
      "\n",
      "           0       0.94      0.97      0.96       359\n",
      "           1       0.95      0.98      0.97       264\n",
      "           2       0.96      0.88      0.92       198\n",
      "           3       0.91      0.90      0.91       166\n",
      "           4       0.88      0.92      0.90       200\n",
      "           5       0.94      0.88      0.91       160\n",
      "           6       0.96      0.96      0.96       170\n",
      "           7       0.95      0.94      0.94       147\n",
      "           8       0.93      0.91      0.92       166\n",
      "           9       0.89      0.91      0.90       177\n",
      "\n",
      "    accuracy                           0.93      2007\n",
      "   macro avg       0.93      0.93      0.93      2007\n",
      "weighted avg       0.93      0.93      0.93      2007\n",
      "\n"
     ]
    }
   ],
   "source": [
    "print(classification_report(y_test.loc[0,:],predictions_bonus[:,13]))"
   ]
  }
 ],
 "metadata": {
  "kernelspec": {
   "display_name": "Python 3 (ipykernel)",
   "language": "python",
   "name": "python3"
  },
  "language_info": {
   "codemirror_mode": {
    "name": "ipython",
    "version": 3
   },
   "file_extension": ".py",
   "mimetype": "text/x-python",
   "name": "python",
   "nbconvert_exporter": "python",
   "pygments_lexer": "ipython3",
   "version": "3.10.8"
  }
 },
 "nbformat": 4,
 "nbformat_minor": 1
}
