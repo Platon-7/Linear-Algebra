{
 "cells": [
  {
   "cell_type": "markdown",
   "metadata": {},
   "source": [
    "# Project 1"
   ]
  },
  {
   "cell_type": "markdown",
   "metadata": {},
   "source": [
    "## Installs & Upgrades (remove comments if you deem it necessary)"
   ]
  },
  {
   "cell_type": "code",
   "execution_count": 198,
   "metadata": {},
   "outputs": [],
   "source": [
    "#!pip install numpy --upgrade\n",
    "#!pip install matplotlib --upgrade"
   ]
  },
  {
   "cell_type": "markdown",
   "metadata": {},
   "source": [
    "## Import the Corresponding Libraries"
   ]
  },
  {
   "cell_type": "code",
   "execution_count": 199,
   "metadata": {},
   "outputs": [],
   "source": [
    "import numpy as np\n",
    "import matplotlib.pyplot as plt"
   ]
  },
  {
   "cell_type": "markdown",
   "metadata": {},
   "source": [
    "## Generate the points and the polynomial p(x)"
   ]
  },
  {
   "cell_type": "code",
   "execution_count": 200,
   "metadata": {},
   "outputs": [],
   "source": [
    "# Generate the data and define A using vandermonde\n",
    "x = np.linspace(0, 1, 21)\n",
    "init_coef = np.ones(15,)\n",
    "A = np.vander(x, 15, increasing = True)\n",
    "y = np.array([sum(init_coef[j]*x[i]**j for j in range(15)) for i in range(21)])"
   ]
  },
  {
   "cell_type": "code",
   "execution_count": 201,
   "metadata": {},
   "outputs": [],
   "source": [
    "# create the polynomial\n",
    "def p(a):\n",
    "    y = A @ a\n",
    "    return y"
   ]
  },
  {
   "cell_type": "markdown",
   "metadata": {},
   "source": [
    "## What is the condition of A?"
   ]
  },
  {
   "cell_type": "code",
   "execution_count": 202,
   "metadata": {},
   "outputs": [
    {
     "name": "stdout",
     "output_type": "stream",
     "text": [
      "52177848099.936485\n"
     ]
    }
   ],
   "source": [
    "print(np.linalg.cond(A))"
   ]
  },
  {
   "cell_type": "markdown",
   "metadata": {},
   "source": [
    "# Normal Equations"
   ]
  },
  {
   "cell_type": "code",
   "execution_count": 203,
   "metadata": {},
   "outputs": [
    {
     "name": "stdout",
     "output_type": "stream",
     "text": [
      "The error using the Normal Equations method is:  17.453728532266638\n"
     ]
    }
   ],
   "source": [
    "# generate the transpose of A and A_T_A\n",
    "A_T_A = A.T @ A\n",
    "# solve the equation and get the coefficients\n",
    "coefficients = np.linalg.solve(A_T_A, A.T @ y)\n",
    "y_hat = p(coefficients)\n",
    "error = np.linalg.norm(init_coef - coefficients)\n",
    "print(\"The error using the Normal Equations method is: \", error)"
   ]
  },
  {
   "cell_type": "markdown",
   "metadata": {},
   "source": [
    "## Plot the actual along with the approximated points"
   ]
  },
  {
   "cell_type": "code",
   "execution_count": 204,
   "metadata": {},
   "outputs": [
    {
     "data": {
      "text/plain": [
       "Text(0.5, 1.0, 'Exact and approximated Points')"
      ]
     },
     "execution_count": 204,
     "metadata": {},
     "output_type": "execute_result"
    },
    {
     "data": {
      "image/png": "[encoded data removed]",
      "text/plain": [
       "<Figure size 432x288 with 1 Axes>"
      ]
     },
     "metadata": {
      "needs_background": "light"
     },
     "output_type": "display_data"
    }
   ],
   "source": [
    "# Generate the plots\n",
    "plt.plot(x, y,'o')\n",
    "plt.xlabel('X')\n",
    "plt.ylabel('Y')\n",
    "\n",
    "plt.plot(x, y_hat,'o')\n",
    "plt.xlabel('X')\n",
    "plt.ylabel('Y')\n",
    "plt.title(\"Exact and approximated Points\")"
   ]
  },
  {
   "cell_type": "markdown",
   "metadata": {},
   "source": [
    "*We can see that the points despite the relatively large error, are so close that we see only 1 point in each spot.*"
   ]
  },
  {
   "cell_type": "markdown",
   "metadata": {},
   "source": [
    "## Plot the residuals"
   ]
  },
  {
   "cell_type": "code",
   "execution_count": 205,
   "metadata": {},
   "outputs": [
    {
     "data": {
      "image/png": "[encoded data removed]",
      "text/plain": [
       "<Figure size 432x288 with 1 Axes>"
      ]
     },
     "metadata": {
      "needs_background": "light"
     },
     "output_type": "display_data"
    }
   ],
   "source": [
    "# Calculate the residuals\n",
    "residuals = y - y_hat\n",
    "\n",
    "# Plot the residuals with lines between points\n",
    "plt.plot(x, residuals, 'o', label='Residuals')\n",
    "plt.plot(x, residuals, '-', color='gray', alpha=0.5)\n",
    "\n",
    "plt.xlabel('X')\n",
    "plt.ylabel('Residuals')\n",
    "plt.title(\"Residuals Plot\")\n",
    "plt.legend()\n",
    "\n",
    "plt.show()"
   ]
  },
  {
   "cell_type": "markdown",
   "metadata": {},
   "source": [
    "# QR Decomposition"
   ]
  },
  {
   "cell_type": "markdown",
   "metadata": {},
   "source": [
    "## Check if Thin QR is more efficient"
   ]
  },
  {
   "cell_type": "code",
   "execution_count": 206,
   "metadata": {},
   "outputs": [
    {
     "name": "stdout",
     "output_type": "stream",
     "text": [
      "Rank of A: 15\n"
     ]
    }
   ],
   "source": [
    "# According to our theory, if the rank is < 15 then Thin QR can work equally great with less cost\n",
    "\n",
    "# Compute the rank of A\n",
    "rank = np.linalg.matrix_rank(A)\n",
    "\n",
    "# Print the rank of A\n",
    "print(\"Rank of A:\", rank)"
   ]
  },
  {
   "cell_type": "markdown",
   "metadata": {},
   "source": [
    "## Least Squares using QR Decomposition"
   ]
  },
  {
   "cell_type": "code",
   "execution_count": 207,
   "metadata": {},
   "outputs": [],
   "source": [
    "from scipy.linalg import qr\n",
    "\n",
    "# Compute the QR factorization of A\n",
    "Q, R = qr(A)\n",
    "Q_cut = Q[:, :15]\n",
    "R_cut = R[:15, :15]"
   ]
  },
  {
   "cell_type": "markdown",
   "metadata": {},
   "source": [
    "### Solve the equation effectively"
   ]
  },
  {
   "cell_type": "code",
   "execution_count": 208,
   "metadata": {},
   "outputs": [
    {
     "name": "stdout",
     "output_type": "stream",
     "text": [
      "The error using the QR method is:  1.6783568259876148e-05\n"
     ]
    }
   ],
   "source": [
    "x_qr = np.linalg.solve(R_cut, Q_cut.T @ y)\n",
    "\n",
    "# Calculate the error\n",
    "y_hat_qr = p(x_qr)\n",
    "error_qr = np.linalg.norm(init_coef - x_qr)\n",
    "print(\"The error using the QR method is: \", error_qr)"
   ]
  },
  {
   "cell_type": "markdown",
   "metadata": {},
   "source": [
    "## Plot the actual along with the approximated points"
   ]
  },
  {
   "cell_type": "code",
   "execution_count": 209,
   "metadata": {},
   "outputs": [
    {
     "data": {
      "text/plain": [
       "Text(0.5, 1.0, 'Exact and approximated Points')"
      ]
     },
     "execution_count": 209,
     "metadata": {},
     "output_type": "execute_result"
    },
    {
     "data": {
      "image/png": "[encoded data removed]",
      "text/plain": [
       "<Figure size 432x288 with 1 Axes>"
      ]
     },
     "metadata": {
      "needs_background": "light"
     },
     "output_type": "display_data"
    }
   ],
   "source": [
    "# Generate the plots\n",
    "plt.plot(x, y,'o')\n",
    "plt.xlabel('X')\n",
    "plt.ylabel('Y')\n",
    "\n",
    "plt.plot(x, y_hat_qr,'o')\n",
    "plt.xlabel('X')\n",
    "plt.ylabel('Y')\n",
    "plt.title(\"Exact and approximated Points\")"
   ]
  },
  {
   "cell_type": "markdown",
   "metadata": {},
   "source": [
    "*Once again, the points are so close that we see only 1 point in each spot.*"
   ]
  },
  {
   "cell_type": "markdown",
   "metadata": {},
   "source": [
    "## Plot the residuals"
   ]
  },
  {
   "cell_type": "code",
   "execution_count": 210,
   "metadata": {},
   "outputs": [
    {
     "data": {
      "image/png": "[encoded data removed]",
      "text/plain": [
       "<Figure size 432x288 with 1 Axes>"
      ]
     },
     "metadata": {
      "needs_background": "light"
     },
     "output_type": "display_data"
    }
   ],
   "source": [
    "# Calculate the residuals\n",
    "residuals = y - y_hat_qr\n",
    "\n",
    "# Plot the residuals with lines between points\n",
    "plt.plot(x, residuals, 'o', label='Residuals')\n",
    "plt.plot(x, residuals, '-', color='gray', alpha=0.5)\n",
    "\n",
    "plt.xlabel('X')\n",
    "plt.ylabel('Residuals')\n",
    "plt.title(\"Residuals Plot\")\n",
    "plt.legend()\n",
    "\n",
    "plt.show()"
   ]
  },
  {
   "cell_type": "markdown",
   "metadata": {},
   "source": [
    "# QR with regularization"
   ]
  },
  {
   "cell_type": "markdown",
   "metadata": {},
   "source": [
    "## A function that takes 'a' as a parameter"
   ]
  },
  {
   "cell_type": "code",
   "execution_count": 211,
   "metadata": {},
   "outputs": [
    {
     "name": "stdout",
     "output_type": "stream",
     "text": [
      "The error using regularized QR method is:  7.878326918656066e-09\n"
     ]
    }
   ],
   "source": [
    "def reg_qr(A, y, a):\n",
    "\n",
    "    I = a * np.identity(A.shape[1])\n",
    "    A_enlarged = np.vstack((A, I))\n",
    "    Q_reg, R_reg = qr(A_enlarged)\n",
    "    R_reg_cut = R_reg[:A.shape[1], :A.shape[1]]\n",
    "    Q_reg_cut = Q_reg[:, :A.shape[1]]\n",
    "\n",
    "    y_reg = np.concatenate((y, np.zeros(A.shape[1])))\n",
    "    x_qr_reg = np.linalg.solve(R_reg_cut, Q_reg_cut.T @ y_reg)\n",
    "\n",
    "    # Calculate the error\n",
    "    error_qr_reg = np.linalg.norm(init_coef - x_qr_reg)\n",
    "\n",
    "\n",
    "    return error_qr_reg\n",
    "\n",
    "a = 1e-7\n",
    "error_qr_reg = reg_qr(A, y, a)\n",
    "print(\"The error using regularized QR method is: \", error_qr_reg)"
   ]
  },
  {
   "cell_type": "markdown",
   "metadata": {},
   "source": [
    "## What if 'a' was larger?"
   ]
  },
  {
   "cell_type": "code",
   "execution_count": 212,
   "metadata": {},
   "outputs": [
    {
     "name": "stdout",
     "output_type": "stream",
     "text": [
      "The error using regularized QR method with a larger 'a' is:  1.0381531050966516e-08\n"
     ]
    }
   ],
   "source": [
    "a = 1e-6\n",
    "error_qr_reg = reg_qr(A, y, a)\n",
    "print(\"The error using regularized QR method with a larger 'a' is: \", error_qr_reg)"
   ]
  },
  {
   "cell_type": "markdown",
   "metadata": {},
   "source": [
    "## What if 'a' was smaller?"
   ]
  },
  {
   "cell_type": "code",
   "execution_count": 213,
   "metadata": {},
   "outputs": [
    {
     "name": "stdout",
     "output_type": "stream",
     "text": [
      "The error using regularized QR method with a smaller 'a' is:  5.966642070636083e-08\n"
     ]
    }
   ],
   "source": [
    "a = 1e-8\n",
    "error_qr_reg = reg_qr(A, y, a)\n",
    "print(\"The error using regularized QR method with a smaller 'a' is: \", error_qr_reg)"
   ]
  },
  {
   "cell_type": "markdown",
   "metadata": {},
   "source": [
    "## Plot the error in terms of 'a'"
   ]
  },
  {
   "cell_type": "code",
   "execution_count": 214,
   "metadata": {},
   "outputs": [
    {
     "data": {
      "image/png": "[encoded data removed]",
      "text/plain": [
       "<Figure size 576x576 with 2 Axes>"
      ]
     },
     "metadata": {
      "needs_background": "light"
     },
     "output_type": "display_data"
    }
   ],
   "source": [
    "# Create a list of a values for the first plot (5-10)\n",
    "a_values_1 = [10 ** (-i) for i in range(5, 10)]\n",
    "\n",
    "# Calculate the errors for each a value for the first plot\n",
    "errors_1 = [reg_qr(A, y, a) for a in a_values_1]\n",
    "\n",
    "# Create a list of a values for the second plot (6-7)\n",
    "a_values_2 = [10 ** (-i) for i in range(6, 8)]\n",
    "\n",
    "# Calculate the errors for each a value for the second plot\n",
    "errors_2 = [reg_qr(A, y, a) for a in a_values_2]\n",
    "\n",
    "# Create subplots\n",
    "fig, (ax1, ax2) = plt.subplots(2, 1, figsize=(8, 8))\n",
    "\n",
    "# Plot for the first plot (5-10)\n",
    "ax1.plot(a_values_1, errors_1)\n",
    "ax1.set_xlabel('a')\n",
    "ax1.set_ylabel('error')\n",
    "ax1.set_xscale('log')\n",
    "ax1.set_title(\"Error in terms of 'a'\")\n",
    "\n",
    "# Plot for the second plot (6-7)\n",
    "ax2.plot(a_values_2, errors_2)\n",
    "ax2.set_xlabel('a')\n",
    "ax2.set_ylabel('error')\n",
    "ax2.set_xscale('log')\n",
    "ax2.set_title(\"Zoom in between 10^(-7) and 10^(-6)\")\n",
    "\n",
    "# Adjust spacing between subplots\n",
    "plt.tight_layout()\n",
    "\n",
    "# Display the plots\n",
    "plt.show()\n"
   ]
  },
  {
   "cell_type": "markdown",
   "metadata": {},
   "source": [
    "We can see that decreasing 'a' to 10\\^(-8) gets us a worse error than 10\\^(-7). Moreover, we can see that if we increase it further than 10\\^(-7) the error is increased as well. Therefore a = 10\\^(-7) seems to be optimal."
   ]
  },
  {
   "cell_type": "markdown",
   "metadata": {},
   "source": [
    "# Truncated Least Squares"
   ]
  },
  {
   "cell_type": "code",
   "execution_count": 215,
   "metadata": {},
   "outputs": [],
   "source": [
    "def truncated_SVD(A, y, r):\n",
    "    # Calculate the SVD of A\n",
    "    U, S, VT = np.linalg.svd(A, full_matrices= False)\n",
    "    S = np.diag(S)\n",
    "\n",
    "    # Truncate the SVD to keep only the first r terms\n",
    "    U_trunc = U[:, :r]\n",
    "    S_trunc = S[0:r,:r]\n",
    "    VT_trunc = VT[:r, :]\n",
    "\n",
    "    # Calculate the left Moore-Penrose pseudoinverse using the SVD factors\n",
    "    S_inv = np.linalg.inv(S_trunc)\n",
    "\n",
    "    a_hat_svd = VT_trunc.T @ S_inv @ U_trunc.T @ y\n",
    "\n",
    "    # Calculate the error ||a - a_hat||2\n",
    "    svd_error = np.linalg.norm(a_hat_svd-init_coef)\n",
    "\n",
    "    return svd_error\n",
    "\n",
    "errors = np.zeros(15,)\n",
    "for i in range(15):\n",
    "    errors[i] = truncated_SVD(A, y, i)"
   ]
  },
  {
   "cell_type": "code",
   "execution_count": 216,
   "metadata": {},
   "outputs": [
    {
     "data": {
      "image/png": "[encoded data removed]",
      "text/plain": [
       "<Figure size 864x432 with 2 Axes>"
      ]
     },
     "metadata": {
      "needs_background": "light"
     },
     "output_type": "display_data"
    }
   ],
   "source": [
    "# Create figure with two subplots\n",
    "fig, axs = plt.subplots(nrows=1, ncols=2, figsize=(12,6))\n",
    "\n",
    "# Plot the errors\n",
    "axs[0].plot(errors, 'bo-')\n",
    "axs[0].set_xlabel('r')\n",
    "axs[0].set_ylabel('Error')\n",
    "axs[0].set_title('How is the error afflicted by the different values of r ?')\n",
    "\n",
    "# Create a semilog plot to help visualize the data\n",
    "axs[1].semilogy(errors, 'ro-')\n",
    "axs[1].set_xlabel('r')\n",
    "axs[1].set_ylabel('Error')\n",
    "axs[1].set_title('Zoom in')\n",
    "\n",
    "# Show the plot\n",
    "plt.show()"
   ]
  },
  {
   "cell_type": "markdown",
   "metadata": {},
   "source": [
    "From the above plots it is obvious that the best value to truncate is 12. We notice that the error keeps decreasing while adding columns to the SVD but after a point the error starts increasing again, probably because of the noise."
   ]
  },
  {
   "cell_type": "code",
   "execution_count": 217,
   "metadata": {},
   "outputs": [
    {
     "name": "stdout",
     "output_type": "stream",
     "text": [
      "The error with the optimal truncation is:  4.78733839207236e-09\n"
     ]
    }
   ],
   "source": [
    "print(\"The error with the optimal truncation is: \", truncated_SVD(A, y, 12))"
   ]
  },
  {
   "cell_type": "markdown",
   "metadata": {},
   "source": [
    "The best method seems to be truncated SVD, followed by regularized QR, normal QR and finally normal equations. So the \"ranking\" is:\n",
    "\n",
    "* Optimally Truncated SVD\n",
    "* Regularized QR\n",
    "* QR\n",
    "* Normal Equations\n",
    "\n",
    "This sequence makes sense, since normal equations are not really accurate when matrix A is in a poor condition (in our case it is). Regularized QR is also naturally better than normal QR, which is the point of the regularization, as it enhances the numerical stability. Finally, SVD is much stronger than the rest of the methods, so it is expected that it has the best results. It should be noted though that regularized QR is very close."
   ]
  },
  {
   "cell_type": "markdown",
   "metadata": {},
   "source": [
    "# PART B"
   ]
  },
  {
   "cell_type": "markdown",
   "metadata": {},
   "source": [
    "# Least Squares with Constraints"
   ]
  },
  {
   "cell_type": "code",
   "execution_count": 218,
   "metadata": {},
   "outputs": [],
   "source": [
    "# Form the matrices A, C, and the vectors b, d\n",
    "x_point = np.array([1, 2, 4, 5, 6, 7, 9, 10])\n",
    "A = np.vander(x_point, 5, increasing = True)\n",
    "rows_to_select = [2, 4, 7]\n",
    "C = A[rows_to_select]\n",
    "b = np.array([1, 2, 3, 4, 5, 4, 5, 6])\n",
    "d = np.array([3, 5, 6])"
   ]
  },
  {
   "cell_type": "markdown",
   "metadata": {},
   "source": [
    "### Step 1"
   ]
  },
  {
   "cell_type": "code",
   "execution_count": 219,
   "metadata": {},
   "outputs": [],
   "source": [
    "AC = np.hstack((A.T, C.T)).T\n",
    "\n",
    "Q, R = qr(AC)\n",
    "\n",
    "Q_cut = Q[:, :5]\n",
    "R_cut = R[:5, :5]\n",
    "\n",
    "Q1 = Q_cut[:8, :]\n",
    "Q2 = Q_cut[8:, :]\n",
    "\n",
    "Q_bar, R_bar = qr(Q2.T)\n",
    "\n",
    "Q_bar_cut = Q_bar[:, :3]\n",
    "R_bar_cut = R_bar[:3, :3]"
   ]
  },
  {
   "cell_type": "markdown",
   "metadata": {},
   "source": [
    "### Step 2"
   ]
  },
  {
   "cell_type": "code",
   "execution_count": 220,
   "metadata": {},
   "outputs": [],
   "source": [
    "# Solve R_bar*u = d\n",
    "u = np.linalg.solve(R_bar_cut.T, d)\n",
    "\n",
    "# Calculate # c = Q_bar.T * Q1.T * b - u\n",
    "c = Q_bar_cut.T @ Q1.T @ b - u"
   ]
  },
  {
   "cell_type": "markdown",
   "metadata": {},
   "source": [
    "### Step 3"
   ]
  },
  {
   "cell_type": "code",
   "execution_count": 221,
   "metadata": {},
   "outputs": [],
   "source": [
    "# Solve R_bar * w = c\n",
    "w = np.linalg.solve(R_bar_cut, c)\n",
    "\n",
    "# Calculate y = Q1.T*b - Q2.T*w\n",
    "y = Q1.T @ b - Q2.T @ w"
   ]
  },
  {
   "cell_type": "markdown",
   "metadata": {},
   "source": [
    "### Step 4"
   ]
  },
  {
   "cell_type": "code",
   "execution_count": 222,
   "metadata": {},
   "outputs": [
    {
     "name": "stdout",
     "output_type": "stream",
     "text": [
      "The coefficients of the polynomial: \n",
      " [ 4.71580473 -5.03240683  2.03725827 -0.26791927  0.01158017]\n"
     ]
    }
   ],
   "source": [
    "# Calculate R*x = y\n",
    "x = np.linalg.solve(R_cut, y)\n",
    "print(\"The coefficients of the polynomial: \\n\", x)"
   ]
  },
  {
   "cell_type": "markdown",
   "metadata": {},
   "source": [
    "#### Note: In steps 2, 3, and 4 we used np.linalg.solve like in the whole notebook. This method is the optimal method to solve linear systems like Ax = b. It uses LU decomposition, but it also contains a series of 'if' statements that save computing power. This case is one where we need these if statements, as step 2 needs forward substitution and step 3, step 4 need back substitution. The internal code of the function detects the linear system's properties ensuring efficiency. In general, this function is implemented in highly optimized C and is commonly used in large-scale problems."
   ]
  },
  {
   "cell_type": "markdown",
   "metadata": {},
   "source": [
    "### Plot the curve along with the points"
   ]
  },
  {
   "cell_type": "code",
   "execution_count": 223,
   "metadata": {},
   "outputs": [
    {
     "data": {
      "image/png": "[encoded data removed]",
      "text/plain": [
       "<Figure size 432x288 with 1 Axes>"
      ]
     },
     "metadata": {
      "needs_background": "light"
     },
     "output_type": "display_data"
    }
   ],
   "source": [
    "# Define the points\n",
    "points = np.array([[1, 1], [2, 2], [4, 3], [5, 4], [6, 5], [7, 4], [9, 5], [10, 6]])\n",
    "\n",
    "# Extract x and y values from the points\n",
    "x_values = points[:, 0]\n",
    "y_values = points[:, 1]\n",
    "\n",
    "# Generate x values for the polynomial curve\n",
    "curve_x = np.linspace(min(x_values), max(x_values), 100)\n",
    "\n",
    "# Evaluate the fourth-degree polynomial curve\n",
    "curve_y = np.polyval(x[::-1], curve_x)\n",
    "\n",
    "# Plot the points\n",
    "plt.scatter(x_values, y_values, color='red', label='Points')\n",
    "\n",
    "# Plot the polynomial curve\n",
    "plt.plot(curve_x, curve_y, color='blue', label='Polynomial Curve')\n",
    "\n",
    "# Set the labels and title\n",
    "plt.xlabel('x')\n",
    "plt.ylabel('y')\n",
    "plt.title('Polynomial Curve Fit')\n",
    "\n",
    "# Add a legend\n",
    "plt.legend()\n",
    "\n",
    "# Show the plot\n",
    "plt.show()"
   ]
  },
  {
   "cell_type": "markdown",
   "metadata": {},
   "source": [
    "### Least Squares without Constraints"
   ]
  },
  {
   "cell_type": "code",
   "execution_count": 224,
   "metadata": {},
   "outputs": [],
   "source": [
    "Q, R = qr(A)\n",
    "\n",
    "Q_cut = Q[:, :5]\n",
    "R_cut = R[:5, :5]\n",
    "\n",
    "x = np.linalg.solve(R_cut, Q_cut.T @ b)"
   ]
  },
  {
   "cell_type": "code",
   "execution_count": 225,
   "metadata": {},
   "outputs": [
    {
     "name": "stdout",
     "output_type": "stream",
     "text": [
      "The coefficients of the polynomial: \n",
      " [ 1.09855072 -0.47427317  0.56853755 -0.09568731  0.00484848]\n"
     ]
    }
   ],
   "source": [
    "print(\"The coefficients of the polynomial: \\n\", x)"
   ]
  },
  {
   "cell_type": "markdown",
   "metadata": {},
   "source": [
    "### Plot the curve along with the points"
   ]
  },
  {
   "cell_type": "code",
   "execution_count": 226,
   "metadata": {},
   "outputs": [
    {
     "data": {
      "image/png": "[encoded data removed]",
      "text/plain": [
       "<Figure size 432x288 with 1 Axes>"
      ]
     },
     "metadata": {
      "needs_background": "light"
     },
     "output_type": "display_data"
    }
   ],
   "source": [
    "# Define the points\n",
    "points = np.array([[1, 1], [2, 2], [4, 3], [5, 4], [6, 5], [7, 4], [9, 5], [10, 6]])\n",
    "\n",
    "# Extract x and y values from the points\n",
    "x_values = points[:, 0]\n",
    "y_values = points[:, 1]\n",
    "\n",
    "# Generate x values for the polynomial curve\n",
    "curve_x = np.linspace(min(x_values), max(x_values), 100)\n",
    "\n",
    "# Evaluate the fourth-degree polynomial curve\n",
    "curve_y = np.polyval(x[::-1], curve_x)\n",
    "\n",
    "# Plot the points\n",
    "plt.scatter(x_values, y_values, color='red', label='Points')\n",
    "\n",
    "# Plot the polynomial curve\n",
    "plt.plot(curve_x, curve_y, color='blue', label='Polynomial Curve')\n",
    "\n",
    "# Set the labels and title\n",
    "plt.xlabel('x')\n",
    "plt.ylabel('y')\n",
    "plt.title('Polynomial Curve Fit')\n",
    "\n",
    "# Add a legend\n",
    "plt.legend()\n",
    "\n",
    "# Show the plot\n",
    "plt.show()"
   ]
  },
  {
   "cell_type": "markdown",
   "metadata": {},
   "source": [
    "The result of this plot is as we expected, since it is trying to minimize the errors, but it takes into account all the distances optimally. \n",
    "On the other hand, the constrained plot considered only the differences from all the points without the constraints (since the differences from the constrained points are essentially 0). These differences are not optimal anymore, becaused we \"sacrificed\" them in order to force the curve to pass exactly from the given 3 points. In general, it depends on the goal of the project, there is no rule of thumb that could say for example that the least squares approximation without constraints is always better. It is a trade-off that we weigh in each project and tune it to fit our exact situation. For example, we could have been informed about some predictions with a very high certainty, and in that case the constrained model could be better. All in all, both methods are useful but in different circumstances."
   ]
  }
 ],
 "metadata": {
  "kernelspec": {
   "display_name": "Python 3 (ipykernel)",
   "language": "python",
   "name": "python3"
  },
  "language_info": {
   "codemirror_mode": {
    "name": "ipython",
    "version": 3
   },
   "file_extension": ".py",
   "mimetype": "text/x-python",
   "name": "python",
   "nbconvert_exporter": "python",
   "pygments_lexer": "ipython3",
   "version": "3.10.8"
  }
 },
 "nbformat": 4,
 "nbformat_minor": 1
}
